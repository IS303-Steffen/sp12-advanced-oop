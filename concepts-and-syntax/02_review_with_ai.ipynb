{
 "cells": [
  {
   "cell_type": "markdown",
   "id": "5e909f7d",
   "metadata": {},
   "source": [
    "\n",
    "# Review with AI: Advanced Object-Oriented Programming\n",
    "\n",
    "Use this notebook to solidify your understanding of advanced OOP concepts like aggregation, composition, inheritance, overriding, private variables, and using getters/setters.\n",
    "\n",
    "### How to use this notebook:\n",
    "- **Copy and paste** the prompts and questions into your preferred AI tool (such as ChatGPT or Copilot).\n",
    "- **Check your understanding** by explaining concepts in your own words and having AI clarify or correct.\n",
    "- **Use the practice prompt** below to generate a custom challenge and try solving it on your own.\n"
   ]
  },
  {
   "cell_type": "markdown",
   "id": "372eaf74",
   "metadata": {},
   "source": [
    "\n",
    "## AI Setup Prompt\n",
    "\n",
    "Paste this into your AI tool before asking questions:\n",
    "\n",
    "```\n",
    "I am a beginner in an introductory Python programming course. When I ask questions or describe a concept, please respond as my tutor by explaining in simple, easy-to-understand language. Correct any mistakes I make and help clarify misconceptions. You can use examples or metaphors to help explain concepts when needed. Let me know if my understanding is correct or where I might be going wrong.\n",
    "```\n"
   ]
  },
  {
   "cell_type": "markdown",
   "id": "7816fda8",
   "metadata": {},
   "source": [
    "\n",
    "## Questions to Review Concepts\n",
    "\n",
    "Ask your AI tutor these questions to better understand advanced OOP:\n",
    "\n",
    "- What is an example of aggregation with objects? When is this useful?\n",
    "- What is an example of composition with objects? Why would I use it instead of aggregation?\n",
    "- What does it mean to inherit from another class in Python?\n",
    "- What happens when I override a method in a child class?\n",
    "- What is `super()` and when do I use it?\n",
    "- What does it mean to make a variable private? How do I access it later?\n",
    "- Why would I want to use getters and setters for private variables?\n"
   ]
  },
  {
   "cell_type": "markdown",
   "id": "e6213866",
   "metadata": {},
   "source": [
    "\n",
    "## Check Your Understanding\n",
    "\n",
    "Try explaining these ideas to AI and ask it to check your accuracy:\n",
    "\n",
    "- The difference between aggregation and composition\n",
    "- The difference between a child class and a parent class\n",
    "- What it means to override a method\n",
    "- The difference between global, local, public, and private scope\n"
   ]
  },
  {
   "cell_type": "markdown",
   "id": "95400df6",
   "metadata": {},
   "source": [
    "\n",
    "## Generate Your Own Practice Question\n",
    "\n",
    "Use the following prompt to have AI generate a custom practice problem for you. Solve it before asking for the answer.\n",
    "\n",
    "```\n",
    "I am a beginning python student in an intro course that is learning coding for the first time. I want you to create a practice problem for me that requires using aggregation, composition, inheritance and using private variables in classes. So far, I've learned how to create variables, getting inputs, some popular built-in functions, if statements, some basic for and while loops, lists, dictionaries, writing custom functions, exception handling, and making basic objects with class/instance variables and methods. The problem you make doesn't have to use all those things (in fact, I'd prefer that it doesn't just so it isn't too hard), I just want to give you context on where in the course I'm at. I want you to give me a problem so I can practice aggregation, composition, inheritance and using private variables in classes. Give me the problem, but don't give me the solution. I will paste in the code afterwards and you should let me know if I did it right.\n",
    "```\n"
   ]
  }
 ],
 "metadata": {},
 "nbformat": 4,
 "nbformat_minor": 5
}
