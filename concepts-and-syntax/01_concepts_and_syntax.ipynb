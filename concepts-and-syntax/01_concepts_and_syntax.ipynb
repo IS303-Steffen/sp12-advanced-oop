{
 "cells": [
  {
   "cell_type": "markdown",
   "id": "503c86b3",
   "metadata": {},
   "source": [
    "\n",
    "# Syntax & Concepts: Advanced Object-Oriented Programming\n",
    "\n",
    "### Before Class:\n",
    "\n",
    "1. **Read this notebook and attempt each \"You Try\" section.**\n",
    "    - Need help? Check the AI tips or your textbook.\n",
    "\n",
    "2. **Complete at least one practice problem from this chapter.**\n",
    "    - Problems are ordered from easiest to hardest.\n",
    "    - Stuck? Copy and paste the instructions and AI prompt into your preferred AI service for guided help.\n",
    "\n",
    "3. **Submit your attempted practice problem code in the \"Class Prep Report\" on Learning Suite for credit.**\n",
    "\n",
    "#### Need more explanation? Copy and paste this AI prompt along with any code you have questions about:\n",
    "(Double-click the text below, then copy and paste it into your AI service.)\n",
    "\n",
    "```\n",
    "I am new to Python and just starting to learn coding. I need simple, clear explanations. When I ask a question or show my code, act like my personal tutor: correct mistakes gently, clarify misconceptions, and use easy-to-follow language. Feel free to use examples or metaphors to help me understand. Let me know when I'm doing well or what I need to adjust.\n",
    "```\n"
   ]
  },
  {
   "cell_type": "markdown",
   "id": "6473f7df",
   "metadata": {},
   "source": [
    "\n",
    "### Chapter Summary\n",
    "\n",
    "This chapter builds on your understanding of OOP by introducing more advanced patterns and tools:\n",
    "\n",
    "- **Aggregation**: A \"has-a\" relationship where one object holds a reference to another.\n",
    "- **Composition**: A \"has-a\" relationship where one object *owns* another object.\n",
    "- **Inheritance**: A way to create new classes based on existing ones.\n",
    "- **Overriding Methods**: Redefining a method in a subclass to change or extend behavior.\n",
    "- **Private Variables**: Using double underscores (e.g., `__balance`) to indicate internal-only variables.\n",
    "- **Getters and Setters**: Methods used to access and update private variables safely.\n"
   ]
  },
  {
   "cell_type": "markdown",
   "id": "4f722dfd",
   "metadata": {},
   "source": [
    "## 1: Aggregation\n",
    "One object holds a reference to another, but doesn’t control its lifecycle."
   ]
  },
  {
   "cell_type": "code",
   "execution_count": null,
   "id": "80da728e",
   "metadata": {},
   "outputs": [],
   "source": [
    "class Engine:\n",
    "    def __init__(self, horsepower):\n",
    "        self.horsepower = horsepower\n",
    "\n",
    "class Car:\n",
    "    def __init__(self, brand, engine):\n",
    "        self.brand = brand\n",
    "        self.engine = engine\n",
    "\n",
    "e = Engine(300)\n",
    "c = Car(\"Toyota\", e) # here we put an Engine object inside the Car object\n",
    "print(c.engine.horsepower)"
   ]
  },
  {
   "cell_type": "markdown",
   "id": "83648bce",
   "metadata": {},
   "source": [
    "### 1.p: You Try\n",
    "Create a `Battery` class and a `Phone` class. The phone should accept a battery object in its constructor and print the battery’s capacity."
   ]
  },
  {
   "cell_type": "code",
   "execution_count": null,
   "id": "3067a504",
   "metadata": {},
   "outputs": [],
   "source": [
    "# Your code here\n"
   ]
  },
  {
   "cell_type": "markdown",
   "id": "82ad191f",
   "metadata": {},
   "source": [
    "## 2: Composition\n",
    "One object creates and owns another object. It controls its lifecycle."
   ]
  },
  {
   "cell_type": "code",
   "execution_count": null,
   "id": "84c42640",
   "metadata": {},
   "outputs": [],
   "source": [
    "class Screen:\n",
    "    def __init__(self):\n",
    "        self.size = \"6 inches\"\n",
    "\n",
    "class Tablet:\n",
    "    def __init__(self):\n",
    "        self.screen = Screen()\n",
    "\n",
    "t = Tablet()\n",
    "print(t.screen.size)"
   ]
  },
  {
   "cell_type": "markdown",
   "id": "5ff50326",
   "metadata": {},
   "source": [
    "### 2.p: You Try\n",
    "Create a `Keyboard` class and a `Laptop` class. The `Laptop` class should create and store a `Keyboard` inside it."
   ]
  },
  {
   "cell_type": "code",
   "execution_count": null,
   "id": "2eece0cf",
   "metadata": {},
   "outputs": [],
   "source": [
    "# Your code here\n"
   ]
  },
  {
   "cell_type": "markdown",
   "id": "70e39fa9",
   "metadata": {},
   "source": [
    "## 3: Inheritance and Method Overriding\n",
    "A subclass can inherit from a parent class and override its methods."
   ]
  },
  {
   "cell_type": "code",
   "execution_count": null,
   "id": "93a092bb",
   "metadata": {},
   "outputs": [],
   "source": [
    "class Employee:\n",
    "    def work(self):\n",
    "        print(\"Working...\")\n",
    "\n",
    "class Manager(Employee):\n",
    "    def work(self):\n",
    "        print(\"Managing the team.\")\n",
    "\n",
    "m = Manager()\n",
    "m.work()"
   ]
  },
  {
   "cell_type": "markdown",
   "id": "796485e4",
   "metadata": {},
   "source": [
    "### 3.p: You Try\n",
    "Create a base class `Animal` with a method `speak()`. Create a subclass `Dog` that overrides `speak()` with a custom message."
   ]
  },
  {
   "cell_type": "code",
   "execution_count": null,
   "id": "72f4e2d7",
   "metadata": {},
   "outputs": [],
   "source": [
    "# Your code here\n"
   ]
  },
  {
   "cell_type": "markdown",
   "id": "e96fd211",
   "metadata": {},
   "source": [
    "## 4: Private Variables\n",
    "Variables with double underscores (e.g., `__balance`) are meant to be internal to the class."
   ]
  },
  {
   "cell_type": "code",
   "execution_count": null,
   "id": "fb3000f8",
   "metadata": {},
   "outputs": [],
   "source": [
    "class BankAccount:\n",
    "    def __init__(self):\n",
    "        self.__balance = 0\n",
    "\n",
    "acct = BankAccount()\n",
    "# print(acct.__balance)  # This would raise an error"
   ]
  },
  {
   "cell_type": "markdown",
   "id": "d8693b5a",
   "metadata": {},
   "source": [
    "### 4.p: You Try\n",
    "Create a `User` class with a private variable `__password`. Try printing it directly to see what happens."
   ]
  },
  {
   "cell_type": "code",
   "execution_count": null,
   "id": "e5a10dd9",
   "metadata": {},
   "outputs": [],
   "source": [
    "# Your code here\n"
   ]
  },
  {
   "cell_type": "markdown",
   "id": "daa72af0",
   "metadata": {},
   "source": [
    "## 5: Getters and Setters\n",
    "Use methods to access or update private variables safely."
   ]
  },
  {
   "cell_type": "code",
   "execution_count": null,
   "id": "36798238",
   "metadata": {},
   "outputs": [],
   "source": [
    "class Product:\n",
    "    def __init__(self):\n",
    "        self.__price = 0\n",
    "\n",
    "    def get_price(self):\n",
    "        return self.__price\n",
    "\n",
    "    def set_price(self, value):\n",
    "        if value >= 0:\n",
    "            self.__price = value\n",
    "\n",
    "p = Product()\n",
    "p.set_price(25)\n",
    "print(p.get_price())"
   ]
  },
  {
   "cell_type": "markdown",
   "id": "ef67966c",
   "metadata": {},
   "source": [
    "### 5.p: You Try\n",
    "Create a `Profile` class with a private variable `__email`. Add a getter and setter for it. Make sure the setter checks that the email contains `@`."
   ]
  },
  {
   "cell_type": "code",
   "execution_count": null,
   "id": "81a66e3a",
   "metadata": {},
   "outputs": [],
   "source": [
    "# Your code here\n"
   ]
  },
  {
   "cell_type": "markdown",
   "id": "37276664",
   "metadata": {},
   "source": [
    "\n",
    "## Want to Learn More?\n",
    "\n",
    "If you'd like extra help or more details, you can:\n",
    "- **Ask AI**: Use the suggested questions in the `review_with_ai` file.\n",
    "- **Read your textbook**: Check the reading guide on Learning Suite beforehand.\n",
    "- **Review class practice files**: They contain more detailed examples and explanations, available on Learning Suite.\n"
   ]
  }
 ],
 "metadata": {
  "language_info": {
   "name": "python"
  }
 },
 "nbformat": 4,
 "nbformat_minor": 5
}
